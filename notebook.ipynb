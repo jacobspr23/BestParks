{
 "cells": [
  {
   "cell_type": "markdown",
   "metadata": {},
   "source": [
    "# BEST PLACE TO BUILD A PARK\n",
    "\n",
    "## Team Rangers \n",
    "\n",
    "### Intro (Since we have to)\n",
    " Using the datasets provided by he WPRDC, we narrowed down the best place to build a park in Pittsburgh build a damn park.\n",
    "        \n",
    " * The Quality of the air, (in the well air)\n",
    " * Park Data\n",
    " * Arrests\n",
    "        \n",
    " Air Quality data is included because parks are places where people are supposed to have fun, and when you go to a park, you're usually there for a long time, and you wouldn't want people having problems with their breathing because of the air quality in the area. For air quality, it's best to find which places have good air qualities, and pick based on those areas. Park outline data would help us tremendously becaues it shows us how big each park is, and where parks are already built in the cities. You wouldn't want places to have multiple parks in the same area because it's a waste of space, and a waste of money. Arrest data helps us because it shows us which areas don't have a considerable amount of danger around them. This is important especially because you wouldn't want your park to have a bad rep in any means. Also if specific things do happen in that area, you would want preventative measures in place, to ensure that no danger would happen at or around the park.\n",
    " "
   ]
  },
  {
   "cell_type": "markdown",
   "metadata": {},
   "source": [
    "### The Metric\n",
    "\n",
    "We figured out our metrics by looking at what listed above, and I can just show you what I mean.\n",
    "\n",
    "### Air Quality\n",
    "\n",
    "For Air quality, it was a lot of researching into this on the website, and the reason is because when you think of air quality, you think it'll just give you one number and say good, bad, or whatever. No that is not the case at all, there are a bunch of parameters for air quality more than what you could think, and there are a bunch of measurements for air quality. Since there a lot of ways you can look at air quality, looked at the average value of all the indexes. The simplest way to determine whether the air quality is good for that time is by taking the daily data of said place. The lower the number for the index, the better by the way, and there were a lot of problems with finding the data on the website, because there weren't enough data on some of the pages. But we found the answer, and the answer was West Mifflin. In order to do this we took the average of the indexes from the last year, with West Mifflin at an average of around 7. Lawrenceville had the worst air quality, coming in at around 37 on average. \n",
    "\n"
    "\n",
    "Best for Air Quality: West Mifflin\n",
    "\n",
    
    "### Pittsburgh Parks\n",
    "\n",
    "There were a lot of problems looking for the data for parks, specifically we could find where the parks where in the city, that wasn't the problem, it was just the datasets themself wouldn't really explain much, so we just settled for a dataset that would give us a rough idea of how big each park is. There were a couple types of parks, but for our case we settled for a neighborhood park, and since the names weren't on the data, we had to look up where each of the parks were. There's a lot manual labor for all the parks, and it wasn't fun, because mainly we had to look at where each park was, how big each park was, and then we had to seperate the parks between neighborhood parks and others. \n",
    "\n",
    "The best place to build a park is: Shadyside.\n"
   ]
  },
  {
   "cell_type": "code",
   "execution_count": null,
   "metadata": {},
   "outputs": [],
   "source": []
  }
 ],
 "metadata": {
  "kernelspec": {
   "display_name": "Python 3",
   "language": "python",
   "name": "python3"
  },
  "language_info": {
   "codemirror_mode": {
    "name": "ipython",
    "version": 3
   },
   "file_extension": ".py",
   "mimetype": "text/x-python",
   "name": "python",
   "nbconvert_exporter": "python",
   "pygments_lexer": "ipython3",
   "version": "3.8.3"
  }
 },
 "nbformat": 4,
 "nbformat_minor": 4
}
